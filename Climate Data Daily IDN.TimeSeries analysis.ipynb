{
 "cells": [
  {
   "cell_type": "markdown",
   "id": "bd4f63bd",
   "metadata": {},
   "source": [
    "## Data : Climate Data Daily IDN\n",
    "* 2010년부터 2020년까지 인도네시아 지역 일일 기후 데이터\n",
    "* Data From : https://www.kaggle.com/datasets/greegtitan/indonesia-climate"
   ]
  },
  {
   "cell_type": "markdown",
   "id": "d5494b82",
   "metadata": {},
   "source": [
    "### 1. 데이터 불러오기\n",
    "* 기본 패키지 불러오기"
   ]
  },
  {
   "cell_type": "code",
   "execution_count": 1,
   "id": "d49b2742",
   "metadata": {},
   "outputs": [],
   "source": [
    "import pandas as pd\n",
    "import numpy as np\n",
    "import matplotlib.pyplot as plt\n",
    "import warnings\n",
    "warnings.filterwarnings(\"ignore\")"
   ]
  },
  {
   "cell_type": "code",
   "execution_count": 2,
   "id": "d924eeab",
   "metadata": {},
   "outputs": [],
   "source": [
    "cm = pd.read_csv('C:/Users/User/Desktop/Climate Data Daily IDN/climate_data.csv')\n",
    "cm_detail = pd.read_csv('C:/Users/User/Desktop/Climate Data Daily IDN/station_detail.csv')"
   ]
  },
  {
   "cell_type": "markdown",
   "id": "e3d5495e",
   "metadata": {},
   "source": [
    "* 데이터 살펴보기"
   ]
  },
  {
   "cell_type": "code",
   "execution_count": 3,
   "id": "2774895b",
   "metadata": {},
   "outputs": [
    {
     "data": {
      "text/html": [
       "<div>\n",
       "<style scoped>\n",
       "    .dataframe tbody tr th:only-of-type {\n",
       "        vertical-align: middle;\n",
       "    }\n",
       "\n",
       "    .dataframe tbody tr th {\n",
       "        vertical-align: top;\n",
       "    }\n",
       "\n",
       "    .dataframe thead th {\n",
       "        text-align: right;\n",
       "    }\n",
       "</style>\n",
       "<table border=\"1\" class=\"dataframe\">\n",
       "  <thead>\n",
       "    <tr style=\"text-align: right;\">\n",
       "      <th></th>\n",
       "      <th>date</th>\n",
       "      <th>Tn</th>\n",
       "      <th>Tx</th>\n",
       "      <th>Tavg</th>\n",
       "      <th>RH_avg</th>\n",
       "      <th>RR</th>\n",
       "      <th>ss</th>\n",
       "      <th>ff_x</th>\n",
       "      <th>ddd_x</th>\n",
       "      <th>ff_avg</th>\n",
       "      <th>ddd_car</th>\n",
       "      <th>station_id</th>\n",
       "    </tr>\n",
       "  </thead>\n",
       "  <tbody>\n",
       "    <tr>\n",
       "      <th>0</th>\n",
       "      <td>01-01-2010</td>\n",
       "      <td>21.4</td>\n",
       "      <td>30.2</td>\n",
       "      <td>27.1</td>\n",
       "      <td>82.0</td>\n",
       "      <td>9.0</td>\n",
       "      <td>0.5</td>\n",
       "      <td>7.0</td>\n",
       "      <td>90.0</td>\n",
       "      <td>5.0</td>\n",
       "      <td>E</td>\n",
       "      <td>96001</td>\n",
       "    </tr>\n",
       "    <tr>\n",
       "      <th>1</th>\n",
       "      <td>02-01-2010</td>\n",
       "      <td>21.0</td>\n",
       "      <td>29.6</td>\n",
       "      <td>25.7</td>\n",
       "      <td>95.0</td>\n",
       "      <td>24.0</td>\n",
       "      <td>0.2</td>\n",
       "      <td>6.0</td>\n",
       "      <td>90.0</td>\n",
       "      <td>4.0</td>\n",
       "      <td>E</td>\n",
       "      <td>96001</td>\n",
       "    </tr>\n",
       "    <tr>\n",
       "      <th>2</th>\n",
       "      <td>03-01-2010</td>\n",
       "      <td>20.2</td>\n",
       "      <td>26.8</td>\n",
       "      <td>24.5</td>\n",
       "      <td>98.0</td>\n",
       "      <td>63.0</td>\n",
       "      <td>0.0</td>\n",
       "      <td>5.0</td>\n",
       "      <td>90.0</td>\n",
       "      <td>4.0</td>\n",
       "      <td>E</td>\n",
       "      <td>96001</td>\n",
       "    </tr>\n",
       "    <tr>\n",
       "      <th>3</th>\n",
       "      <td>04-01-2010</td>\n",
       "      <td>21.0</td>\n",
       "      <td>29.2</td>\n",
       "      <td>25.8</td>\n",
       "      <td>90.0</td>\n",
       "      <td>0.0</td>\n",
       "      <td>0.1</td>\n",
       "      <td>4.0</td>\n",
       "      <td>225.0</td>\n",
       "      <td>3.0</td>\n",
       "      <td>SW</td>\n",
       "      <td>96001</td>\n",
       "    </tr>\n",
       "    <tr>\n",
       "      <th>4</th>\n",
       "      <td>05-01-2010</td>\n",
       "      <td>21.2</td>\n",
       "      <td>30.0</td>\n",
       "      <td>26.7</td>\n",
       "      <td>90.0</td>\n",
       "      <td>2.0</td>\n",
       "      <td>0.4</td>\n",
       "      <td>NaN</td>\n",
       "      <td>NaN</td>\n",
       "      <td>NaN</td>\n",
       "      <td>NaN</td>\n",
       "      <td>96001</td>\n",
       "    </tr>\n",
       "  </tbody>\n",
       "</table>\n",
       "</div>"
      ],
      "text/plain": [
       "         date    Tn    Tx  Tavg  RH_avg    RR   ss  ff_x  ddd_x  ff_avg  \\\n",
       "0  01-01-2010  21.4  30.2  27.1    82.0   9.0  0.5   7.0   90.0     5.0   \n",
       "1  02-01-2010  21.0  29.6  25.7    95.0  24.0  0.2   6.0   90.0     4.0   \n",
       "2  03-01-2010  20.2  26.8  24.5    98.0  63.0  0.0   5.0   90.0     4.0   \n",
       "3  04-01-2010  21.0  29.2  25.8    90.0   0.0  0.1   4.0  225.0     3.0   \n",
       "4  05-01-2010  21.2  30.0  26.7    90.0   2.0  0.4   NaN    NaN     NaN   \n",
       "\n",
       "  ddd_car  station_id  \n",
       "0      E        96001  \n",
       "1      E        96001  \n",
       "2      E        96001  \n",
       "3      SW       96001  \n",
       "4     NaN       96001  "
      ]
     },
     "execution_count": 3,
     "metadata": {},
     "output_type": "execute_result"
    }
   ],
   "source": [
    "cm.head()"
   ]
  },
  {
   "cell_type": "code",
   "execution_count": 5,
   "id": "9230a493",
   "metadata": {},
   "outputs": [
    {
     "data": {
      "text/html": [
       "<div>\n",
       "<style scoped>\n",
       "    .dataframe tbody tr th:only-of-type {\n",
       "        vertical-align: middle;\n",
       "    }\n",
       "\n",
       "    .dataframe tbody tr th {\n",
       "        vertical-align: top;\n",
       "    }\n",
       "\n",
       "    .dataframe thead th {\n",
       "        text-align: right;\n",
       "    }\n",
       "</style>\n",
       "<table border=\"1\" class=\"dataframe\">\n",
       "  <thead>\n",
       "    <tr style=\"text-align: right;\">\n",
       "      <th></th>\n",
       "      <th>station_id</th>\n",
       "      <th>station_name</th>\n",
       "      <th>region_name</th>\n",
       "      <th>latitude</th>\n",
       "      <th>longitude</th>\n",
       "      <th>region_id</th>\n",
       "      <th>province_id</th>\n",
       "    </tr>\n",
       "  </thead>\n",
       "  <tbody>\n",
       "    <tr>\n",
       "      <th>0</th>\n",
       "      <td>96001</td>\n",
       "      <td>Stasiun Meteorologi Maimun Saleh</td>\n",
       "      <td>Kota Sabang</td>\n",
       "      <td>5.87655</td>\n",
       "      <td>95.33785</td>\n",
       "      <td>20</td>\n",
       "      <td>1</td>\n",
       "    </tr>\n",
       "    <tr>\n",
       "      <th>1</th>\n",
       "      <td>96003</td>\n",
       "      <td>Balai Besar Meteorologi Klimatologi  dan Geofi...</td>\n",
       "      <td>Kab. Badung</td>\n",
       "      <td>-8.73810</td>\n",
       "      <td>115.17860</td>\n",
       "      <td>272</td>\n",
       "      <td>17</td>\n",
       "    </tr>\n",
       "    <tr>\n",
       "      <th>2</th>\n",
       "      <td>96004</td>\n",
       "      <td>Balai Besar Meteorologi Klimatologi dan Geofis...</td>\n",
       "      <td>Kota Makassar</td>\n",
       "      <td>-5.14283</td>\n",
       "      <td>119.45227</td>\n",
       "      <td>412</td>\n",
       "      <td>26</td>\n",
       "    </tr>\n",
       "    <tr>\n",
       "      <th>3</th>\n",
       "      <td>96009</td>\n",
       "      <td>Stasiun Meteorologi Malikussaleh</td>\n",
       "      <td>Kab. Aceh Utara</td>\n",
       "      <td>5.22869</td>\n",
       "      <td>96.94749</td>\n",
       "      <td>8</td>\n",
       "      <td>1</td>\n",
       "    </tr>\n",
       "    <tr>\n",
       "      <th>4</th>\n",
       "      <td>96011</td>\n",
       "      <td>Stasiun Meteorologi Sultan Iskandar Muda</td>\n",
       "      <td>Kab. Aceh Besar</td>\n",
       "      <td>5.52244</td>\n",
       "      <td>95.41700</td>\n",
       "      <td>6</td>\n",
       "      <td>1</td>\n",
       "    </tr>\n",
       "  </tbody>\n",
       "</table>\n",
       "</div>"
      ],
      "text/plain": [
       "   station_id                                       station_name  \\\n",
       "0       96001                   Stasiun Meteorologi Maimun Saleh   \n",
       "1       96003  Balai Besar Meteorologi Klimatologi  dan Geofi...   \n",
       "2       96004  Balai Besar Meteorologi Klimatologi dan Geofis...   \n",
       "3       96009                   Stasiun Meteorologi Malikussaleh   \n",
       "4       96011           Stasiun Meteorologi Sultan Iskandar Muda   \n",
       "\n",
       "       region_name  latitude  longitude  region_id  province_id  \n",
       "0      Kota Sabang   5.87655   95.33785         20            1  \n",
       "1      Kab. Badung  -8.73810  115.17860        272           17  \n",
       "2    Kota Makassar  -5.14283  119.45227        412           26  \n",
       "3  Kab. Aceh Utara   5.22869   96.94749          8            1  \n",
       "4  Kab. Aceh Besar   5.52244   95.41700          6            1  "
      ]
     },
     "execution_count": 5,
     "metadata": {},
     "output_type": "execute_result"
    }
   ],
   "source": [
    "cm_detail.head()"
   ]
  },
  {
   "cell_type": "markdown",
   "id": "24a3484d",
   "metadata": {},
   "source": [
    "<칼럼 설명>  \n",
    "climate_data.csv\n",
    "* date : 날짜\n",
    "* Tn : 최저기온(°C)\n",
    "* TX : 최고기온(°C) \n",
    "* Tavg : 평균온도(°C)\n",
    "* RH_avg : 평균 습도(%)\n",
    "* RR : 강우량(mm)\n",
    "* ss : 일조 시간(hour)\n",
    "* ff_x : 최대 풍속(m/s)\n",
    "* ddd_x : 최대 풍속 방향(°)\n",
    "* ff_avg : 평균 풍속(m/s)\n",
    "* ddd_car : 바람 방향(°)\n",
    "* station_id : 거리 코드\n",
    "\n",
    "station_detail.csv\n",
    "* station_id : 거리 코드\n",
    "* station_name : 거리명\n",
    "* region_name : 지역명\n",
    "* latitude : 위도\n",
    "* longitude : 경도\n",
    "* region_id : 지역 코드\n",
    "* province_id : 지방 코드"
   ]
  },
  {
   "cell_type": "markdown",
   "id": "85bc28fa",
   "metadata": {},
   "source": [
    "## 2. 데이터 전처리"
   ]
  },
  {
   "cell_type": "markdown",
   "id": "675420ae",
   "metadata": {},
   "source": [
    "* 날짜 데이터 변환"
   ]
  },
  {
   "cell_type": "code",
   "execution_count": 3,
   "id": "fd809a47",
   "metadata": {},
   "outputs": [
    {
     "data": {
      "text/plain": [
       "0    2010-01-01\n",
       "1    2010-01-02\n",
       "2    2010-01-03\n",
       "3    2010-01-04\n",
       "4    2010-01-05\n",
       "Name: date, dtype: object"
      ]
     },
     "execution_count": 3,
     "metadata": {},
     "output_type": "execute_result"
    }
   ],
   "source": [
    "cm['date'] = cm['date'].str[6:] + \"-\" + cm['date'].str[3:5] + \"-\"+ cm['date'].str[0:2]\n",
    "cm['date'].head()"
   ]
  },
  {
   "cell_type": "code",
   "execution_count": 4,
   "id": "87ee145e",
   "metadata": {},
   "outputs": [],
   "source": [
    "cm['date'] = pd.to_datetime(cm['date'])"
   ]
  },
  {
   "cell_type": "markdown",
   "id": "3a6616c7",
   "metadata": {},
   "source": [
    "* 데이터 병합"
   ]
  },
  {
   "cell_type": "code",
   "execution_count": 5,
   "id": "b9f60394",
   "metadata": {
    "scrolled": false
   },
   "outputs": [
    {
     "data": {
      "text/html": [
       "<div>\n",
       "<style scoped>\n",
       "    .dataframe tbody tr th:only-of-type {\n",
       "        vertical-align: middle;\n",
       "    }\n",
       "\n",
       "    .dataframe tbody tr th {\n",
       "        vertical-align: top;\n",
       "    }\n",
       "\n",
       "    .dataframe thead th {\n",
       "        text-align: right;\n",
       "    }\n",
       "</style>\n",
       "<table border=\"1\" class=\"dataframe\">\n",
       "  <thead>\n",
       "    <tr style=\"text-align: right;\">\n",
       "      <th></th>\n",
       "      <th>date</th>\n",
       "      <th>Tn</th>\n",
       "      <th>Tx</th>\n",
       "      <th>Tavg</th>\n",
       "      <th>RH_avg</th>\n",
       "      <th>RR</th>\n",
       "      <th>ss</th>\n",
       "      <th>ff_x</th>\n",
       "      <th>ddd_x</th>\n",
       "      <th>ff_avg</th>\n",
       "      <th>ddd_car</th>\n",
       "      <th>station_id</th>\n",
       "      <th>station_name</th>\n",
       "      <th>region_name</th>\n",
       "      <th>latitude</th>\n",
       "      <th>longitude</th>\n",
       "      <th>region_id</th>\n",
       "      <th>province_id</th>\n",
       "    </tr>\n",
       "  </thead>\n",
       "  <tbody>\n",
       "    <tr>\n",
       "      <th>0</th>\n",
       "      <td>2010-01-01</td>\n",
       "      <td>21.4</td>\n",
       "      <td>30.2</td>\n",
       "      <td>27.1</td>\n",
       "      <td>82.0</td>\n",
       "      <td>9.0</td>\n",
       "      <td>0.5</td>\n",
       "      <td>7.0</td>\n",
       "      <td>90.0</td>\n",
       "      <td>5.0</td>\n",
       "      <td>E</td>\n",
       "      <td>96001</td>\n",
       "      <td>Stasiun Meteorologi Maimun Saleh</td>\n",
       "      <td>Kota Sabang</td>\n",
       "      <td>5.87655</td>\n",
       "      <td>95.33785</td>\n",
       "      <td>20</td>\n",
       "      <td>1</td>\n",
       "    </tr>\n",
       "    <tr>\n",
       "      <th>1</th>\n",
       "      <td>2010-01-02</td>\n",
       "      <td>21.0</td>\n",
       "      <td>29.6</td>\n",
       "      <td>25.7</td>\n",
       "      <td>95.0</td>\n",
       "      <td>24.0</td>\n",
       "      <td>0.2</td>\n",
       "      <td>6.0</td>\n",
       "      <td>90.0</td>\n",
       "      <td>4.0</td>\n",
       "      <td>E</td>\n",
       "      <td>96001</td>\n",
       "      <td>Stasiun Meteorologi Maimun Saleh</td>\n",
       "      <td>Kota Sabang</td>\n",
       "      <td>5.87655</td>\n",
       "      <td>95.33785</td>\n",
       "      <td>20</td>\n",
       "      <td>1</td>\n",
       "    </tr>\n",
       "    <tr>\n",
       "      <th>2</th>\n",
       "      <td>2010-01-03</td>\n",
       "      <td>20.2</td>\n",
       "      <td>26.8</td>\n",
       "      <td>24.5</td>\n",
       "      <td>98.0</td>\n",
       "      <td>63.0</td>\n",
       "      <td>0.0</td>\n",
       "      <td>5.0</td>\n",
       "      <td>90.0</td>\n",
       "      <td>4.0</td>\n",
       "      <td>E</td>\n",
       "      <td>96001</td>\n",
       "      <td>Stasiun Meteorologi Maimun Saleh</td>\n",
       "      <td>Kota Sabang</td>\n",
       "      <td>5.87655</td>\n",
       "      <td>95.33785</td>\n",
       "      <td>20</td>\n",
       "      <td>1</td>\n",
       "    </tr>\n",
       "    <tr>\n",
       "      <th>3</th>\n",
       "      <td>2010-01-04</td>\n",
       "      <td>21.0</td>\n",
       "      <td>29.2</td>\n",
       "      <td>25.8</td>\n",
       "      <td>90.0</td>\n",
       "      <td>0.0</td>\n",
       "      <td>0.1</td>\n",
       "      <td>4.0</td>\n",
       "      <td>225.0</td>\n",
       "      <td>3.0</td>\n",
       "      <td>SW</td>\n",
       "      <td>96001</td>\n",
       "      <td>Stasiun Meteorologi Maimun Saleh</td>\n",
       "      <td>Kota Sabang</td>\n",
       "      <td>5.87655</td>\n",
       "      <td>95.33785</td>\n",
       "      <td>20</td>\n",
       "      <td>1</td>\n",
       "    </tr>\n",
       "    <tr>\n",
       "      <th>4</th>\n",
       "      <td>2010-01-05</td>\n",
       "      <td>21.2</td>\n",
       "      <td>30.0</td>\n",
       "      <td>26.7</td>\n",
       "      <td>90.0</td>\n",
       "      <td>2.0</td>\n",
       "      <td>0.4</td>\n",
       "      <td>NaN</td>\n",
       "      <td>NaN</td>\n",
       "      <td>NaN</td>\n",
       "      <td>NaN</td>\n",
       "      <td>96001</td>\n",
       "      <td>Stasiun Meteorologi Maimun Saleh</td>\n",
       "      <td>Kota Sabang</td>\n",
       "      <td>5.87655</td>\n",
       "      <td>95.33785</td>\n",
       "      <td>20</td>\n",
       "      <td>1</td>\n",
       "    </tr>\n",
       "  </tbody>\n",
       "</table>\n",
       "</div>"
      ],
      "text/plain": [
       "        date    Tn    Tx  Tavg  RH_avg    RR   ss  ff_x  ddd_x  ff_avg  \\\n",
       "0 2010-01-01  21.4  30.2  27.1    82.0   9.0  0.5   7.0   90.0     5.0   \n",
       "1 2010-01-02  21.0  29.6  25.7    95.0  24.0  0.2   6.0   90.0     4.0   \n",
       "2 2010-01-03  20.2  26.8  24.5    98.0  63.0  0.0   5.0   90.0     4.0   \n",
       "3 2010-01-04  21.0  29.2  25.8    90.0   0.0  0.1   4.0  225.0     3.0   \n",
       "4 2010-01-05  21.2  30.0  26.7    90.0   2.0  0.4   NaN    NaN     NaN   \n",
       "\n",
       "  ddd_car  station_id                      station_name  region_name  \\\n",
       "0      E        96001  Stasiun Meteorologi Maimun Saleh  Kota Sabang   \n",
       "1      E        96001  Stasiun Meteorologi Maimun Saleh  Kota Sabang   \n",
       "2      E        96001  Stasiun Meteorologi Maimun Saleh  Kota Sabang   \n",
       "3      SW       96001  Stasiun Meteorologi Maimun Saleh  Kota Sabang   \n",
       "4     NaN       96001  Stasiun Meteorologi Maimun Saleh  Kota Sabang   \n",
       "\n",
       "   latitude  longitude  region_id  province_id  \n",
       "0   5.87655   95.33785         20            1  \n",
       "1   5.87655   95.33785         20            1  \n",
       "2   5.87655   95.33785         20            1  \n",
       "3   5.87655   95.33785         20            1  \n",
       "4   5.87655   95.33785         20            1  "
      ]
     },
     "execution_count": 5,
     "metadata": {},
     "output_type": "execute_result"
    }
   ],
   "source": [
    "cm = pd.merge(cm,cm_detail,how = 'inner')\n",
    "cm.head()"
   ]
  },
  {
   "cell_type": "markdown",
   "id": "e82cb00c",
   "metadata": {},
   "source": [
    "* 데이터 결측치 확인"
   ]
  },
  {
   "cell_type": "code",
   "execution_count": 18,
   "id": "ae6386da",
   "metadata": {},
   "outputs": [
    {
     "data": {
      "text/plain": [
       "date                 0\n",
       "Tn               23383\n",
       "Tx               37736\n",
       "Tavg             45105\n",
       "RH_avg           48182\n",
       "RR              125384\n",
       "ss               43721\n",
       "ff_x             10214\n",
       "ddd_x            13128\n",
       "ff_avg           10127\n",
       "ddd_car          13739\n",
       "station_id           0\n",
       "station_name         0\n",
       "region_name          0\n",
       "latitude             0\n",
       "longitude            0\n",
       "region_id            0\n",
       "province_id          0\n",
       "dtype: int64"
      ]
     },
     "execution_count": 18,
     "metadata": {},
     "output_type": "execute_result"
    }
   ],
   "source": [
    "cm.isnull().sum()"
   ]
  },
  {
   "cell_type": "markdown",
   "id": "202659cb",
   "metadata": {},
   "source": [
    "* 데이터의 결측치 대체값 찾기  "
   ]
  },
  {
   "cell_type": "markdown",
   "id": "de535d96",
   "metadata": {},
   "source": [
    "ddd_car(바람 방향) 범주형 변수임으로 평균값을 찾기 어려움으로 컬럼을 삭제한다."
   ]
  },
  {
   "cell_type": "code",
   "execution_count": 11,
   "id": "752094bf",
   "metadata": {},
   "outputs": [],
   "source": [
    "cm = cm.drop(columns=['ddd_car'])"
   ]
  },
  {
   "cell_type": "code",
   "execution_count": null,
   "id": "f1395705",
   "metadata": {
    "scrolled": true
   },
   "outputs": [],
   "source": [
    "# running time(153m22.2s)\n",
    "for i in range(0,len(cm)):\n",
    "    cm_null_col = cm.loc[i].reset_index()[cm.loc[i].reset_index()[i].isnull()]['index'].tolist()\n",
    "    for j in cm_null_col:\n",
    "        cm.loc[[i]] = cm[(cm['date'] == cm.iloc[i]['date'])&(cm['latitude'] >= cm.iloc[i]['latitude'] - 0.5)&(cm['latitude'] <= cm.iloc[i]['latitude'] + 0.5)].fillna({j:cm[(cm['date'] == cm.iloc[i]['date'])&(cm['latitude'] >= cm.iloc[i]['latitude'] - 0.5)&(cm['latitude'] <= cm.iloc[i]['latitude'] + 0.5)][j].mean()})"
   ]
  },
  {
   "cell_type": "markdown",
   "id": "e82c2892",
   "metadata": {},
   "source": [
    "cm_null_col은 i번째의 결측 컬럼을 추출한다.  \n",
    "그 다음으로 위도가 ±0.5인 지역의 평균 값을 결측치에 대입한다."
   ]
  },
  {
   "cell_type": "code",
   "execution_count": null,
   "id": "c93a9595",
   "metadata": {},
   "outputs": [],
   "source": [
    "cm.to_csv('climate_re.csv')"
   ]
  },
  {
   "cell_type": "code",
   "execution_count": null,
   "id": "cd206f3b",
   "metadata": {},
   "outputs": [],
   "source": [
    "cm_re = pd.read_csv('C:/Users/User/Desktop/Climate Data Daily IDN/climate_re.csv')"
   ]
  },
  {
   "cell_type": "code",
   "execution_count": 21,
   "id": "0c29c10e",
   "metadata": {
    "scrolled": true
   },
   "outputs": [
    {
     "data": {
      "text/plain": [
       "Unnamed: 0          0\n",
       "date                0\n",
       "Tn                 31\n",
       "Tx                 52\n",
       "Tavg               68\n",
       "RH_avg             68\n",
       "RR               1496\n",
       "ss                103\n",
       "ff_x                1\n",
       "ddd_x               0\n",
       "ff_avg             24\n",
       "ddd_car         13739\n",
       "station_id          0\n",
       "station_name        0\n",
       "region_name         0\n",
       "latitude            0\n",
       "longitude           0\n",
       "region_id           0\n",
       "province_id         0\n",
       "dtype: int64"
      ]
     },
     "execution_count": 21,
     "metadata": {},
     "output_type": "execute_result"
    }
   ],
   "source": [
    "cm_re.isnull().sum()"
   ]
  },
  {
   "cell_type": "markdown",
   "id": "c06ae6bb",
   "metadata": {},
   "source": [
    "많이 줄었지만 위도주변 지역에서 결측치를 잡을 수 없어서  \n",
    "경도 ±0.5지역의 평균 값을 넣는다"
   ]
  },
  {
   "cell_type": "code",
   "execution_count": null,
   "id": "25bc4222",
   "metadata": {},
   "outputs": [],
   "source": [
    "# running time(156m1.1s)\n",
    "for i in range(0,len(cm_re)):\n",
    "    cm_null_col = cm.loc[i].reset_index()[cm.loc[i].reset_index()[i].isnull()]['index'].tolist()\n",
    "    for j in cm_null_col:\n",
    "        cm_re.loc[[i]] = cm_re[(cm_re['date'] == cm_re.iloc[i]['date'])&(cm_re['longitude'] >= cm_re.iloc[i]['longitude'] - 0.5)&(cm_re['longitude'] <= cm_re.iloc[i]['longitude'] + 0.5)].fillna({j:cm_re[(cm_re['date'] == cm_re.iloc[i]['date'])&(cm_re['longitude'] >= cm_re.iloc[i]['longitude'] - 0.5)&(cm_re['longitude'] <= cm_re.iloc[i]['longitude'] + 0.5)][j].mean()})"
   ]
  },
  {
   "cell_type": "code",
   "execution_count": null,
   "id": "d931df1b",
   "metadata": {},
   "outputs": [],
   "source": [
    "cm_re.to_csv('climate_re_re.csv')"
   ]
  },
  {
   "cell_type": "code",
   "execution_count": 22,
   "id": "30d966fa",
   "metadata": {},
   "outputs": [],
   "source": [
    "cm_re_re = pd.read_csv('C:/Users/User/Desktop/Climate Data Daily IDN/climate_re_re.csv')"
   ]
  },
  {
   "cell_type": "code",
   "execution_count": 23,
   "id": "e42f0e1c",
   "metadata": {},
   "outputs": [
    {
     "data": {
      "text/plain": [
       "Unnamed: 0          0\n",
       "date                0\n",
       "Tn                  4\n",
       "Tx                  2\n",
       "Tavg                2\n",
       "RH_avg              2\n",
       "RR                320\n",
       "ss                  9\n",
       "ff_x                0\n",
       "ddd_x               0\n",
       "ff_avg              0\n",
       "ddd_car         13739\n",
       "station_id          0\n",
       "station_name        0\n",
       "region_name         0\n",
       "latitude            0\n",
       "longitude           0\n",
       "region_id           0\n",
       "province_id         0\n",
       "dtype: int64"
      ]
     },
     "execution_count": 23,
     "metadata": {},
     "output_type": "execute_result"
    }
   ],
   "source": [
    "cm_re_re.isnull().sum()"
   ]
  },
  {
   "cell_type": "markdown",
   "id": "196bd374",
   "metadata": {},
   "source": [
    "Tn(최저 기온),Tx(최고 기온),RH_avg(평균 습도)값은 지역을 ±1.0으로 더 넓혀서 결측치를 찾고,  \n",
    "Tavg(평균 기온)은 직접 행에서 최저,최고기온에 평균 값으로 대체한다.  \n",
    "그리고 RR(강우량),ss(일조량)값은 주변 값으로 대체 불가능함으로 결측치행은 제거한다."
   ]
  },
  {
   "cell_type": "code",
   "execution_count": 95,
   "id": "1db636a7",
   "metadata": {},
   "outputs": [],
   "source": [
    "cm = pd.read_csv('C:/Users/User/Desktop/Climate Data Daily IDN/climate_re_re_re.csv')"
   ]
  },
  {
   "cell_type": "code",
   "execution_count": 26,
   "id": "a3b381f9",
   "metadata": {
    "scrolled": true
   },
   "outputs": [
    {
     "data": {
      "text/plain": [
       "Unnamed: 0      0\n",
       "date            0\n",
       "Tn              0\n",
       "Tx              0\n",
       "Tavg            0\n",
       "RH_avg          0\n",
       "RR              0\n",
       "ss              0\n",
       "ff_x            0\n",
       "ddd_x           0\n",
       "ff_avg          0\n",
       "station_id      0\n",
       "station_name    0\n",
       "region_name     0\n",
       "latitude        0\n",
       "longitude       0\n",
       "region_id       0\n",
       "province_id     0\n",
       "dtype: int64"
      ]
     },
     "execution_count": 26,
     "metadata": {},
     "output_type": "execute_result"
    }
   ],
   "source": [
    "cm.isnull().sum()"
   ]
  },
  {
   "cell_type": "markdown",
   "id": "2bff3bac",
   "metadata": {},
   "source": [
    "Unnamed: 0컬럼은 필요없으므로 삭제한다."
   ]
  },
  {
   "cell_type": "code",
   "execution_count": 96,
   "id": "0fd9ea29",
   "metadata": {},
   "outputs": [],
   "source": [
    "cm = cm.drop(columns=['Unnamed: 0'])"
   ]
  },
  {
   "cell_type": "code",
   "execution_count": 89,
   "id": "95e34f99",
   "metadata": {
    "scrolled": true
   },
   "outputs": [
    {
     "data": {
      "text/html": [
       "<div>\n",
       "<style scoped>\n",
       "    .dataframe tbody tr th:only-of-type {\n",
       "        vertical-align: middle;\n",
       "    }\n",
       "\n",
       "    .dataframe tbody tr th {\n",
       "        vertical-align: top;\n",
       "    }\n",
       "\n",
       "    .dataframe thead th {\n",
       "        text-align: right;\n",
       "    }\n",
       "</style>\n",
       "<table border=\"1\" class=\"dataframe\">\n",
       "  <thead>\n",
       "    <tr style=\"text-align: right;\">\n",
       "      <th></th>\n",
       "      <th>date</th>\n",
       "      <th>Tn</th>\n",
       "      <th>Tx</th>\n",
       "      <th>Tavg</th>\n",
       "      <th>RH_avg</th>\n",
       "      <th>RR</th>\n",
       "      <th>ss</th>\n",
       "      <th>ff_x</th>\n",
       "      <th>ddd_x</th>\n",
       "      <th>ff_avg</th>\n",
       "      <th>station_id</th>\n",
       "      <th>station_name</th>\n",
       "      <th>region_name</th>\n",
       "      <th>latitude</th>\n",
       "      <th>longitude</th>\n",
       "      <th>region_id</th>\n",
       "      <th>province_id</th>\n",
       "    </tr>\n",
       "  </thead>\n",
       "  <tbody>\n",
       "    <tr>\n",
       "      <th>0</th>\n",
       "      <td>2010-01-01</td>\n",
       "      <td>21.4</td>\n",
       "      <td>30.2</td>\n",
       "      <td>27.1</td>\n",
       "      <td>82.0</td>\n",
       "      <td>9.0</td>\n",
       "      <td>0.5</td>\n",
       "      <td>7.0</td>\n",
       "      <td>90.0</td>\n",
       "      <td>5.0</td>\n",
       "      <td>96001</td>\n",
       "      <td>Stasiun Meteorologi Maimun Saleh</td>\n",
       "      <td>Kota Sabang</td>\n",
       "      <td>5.87655</td>\n",
       "      <td>95.33785</td>\n",
       "      <td>20</td>\n",
       "      <td>1</td>\n",
       "    </tr>\n",
       "    <tr>\n",
       "      <th>1</th>\n",
       "      <td>2010-01-02</td>\n",
       "      <td>21.0</td>\n",
       "      <td>29.6</td>\n",
       "      <td>25.7</td>\n",
       "      <td>95.0</td>\n",
       "      <td>24.0</td>\n",
       "      <td>0.2</td>\n",
       "      <td>6.0</td>\n",
       "      <td>90.0</td>\n",
       "      <td>4.0</td>\n",
       "      <td>96001</td>\n",
       "      <td>Stasiun Meteorologi Maimun Saleh</td>\n",
       "      <td>Kota Sabang</td>\n",
       "      <td>5.87655</td>\n",
       "      <td>95.33785</td>\n",
       "      <td>20</td>\n",
       "      <td>1</td>\n",
       "    </tr>\n",
       "    <tr>\n",
       "      <th>2</th>\n",
       "      <td>2010-01-03</td>\n",
       "      <td>20.2</td>\n",
       "      <td>26.8</td>\n",
       "      <td>24.5</td>\n",
       "      <td>98.0</td>\n",
       "      <td>63.0</td>\n",
       "      <td>0.0</td>\n",
       "      <td>5.0</td>\n",
       "      <td>90.0</td>\n",
       "      <td>4.0</td>\n",
       "      <td>96001</td>\n",
       "      <td>Stasiun Meteorologi Maimun Saleh</td>\n",
       "      <td>Kota Sabang</td>\n",
       "      <td>5.87655</td>\n",
       "      <td>95.33785</td>\n",
       "      <td>20</td>\n",
       "      <td>1</td>\n",
       "    </tr>\n",
       "    <tr>\n",
       "      <th>3</th>\n",
       "      <td>2010-01-04</td>\n",
       "      <td>21.0</td>\n",
       "      <td>29.2</td>\n",
       "      <td>25.8</td>\n",
       "      <td>90.0</td>\n",
       "      <td>0.0</td>\n",
       "      <td>0.1</td>\n",
       "      <td>4.0</td>\n",
       "      <td>225.0</td>\n",
       "      <td>3.0</td>\n",
       "      <td>96001</td>\n",
       "      <td>Stasiun Meteorologi Maimun Saleh</td>\n",
       "      <td>Kota Sabang</td>\n",
       "      <td>5.87655</td>\n",
       "      <td>95.33785</td>\n",
       "      <td>20</td>\n",
       "      <td>1</td>\n",
       "    </tr>\n",
       "    <tr>\n",
       "      <th>4</th>\n",
       "      <td>2010-01-05</td>\n",
       "      <td>21.2</td>\n",
       "      <td>30.0</td>\n",
       "      <td>26.7</td>\n",
       "      <td>90.0</td>\n",
       "      <td>2.0</td>\n",
       "      <td>0.4</td>\n",
       "      <td>6.5</td>\n",
       "      <td>157.5</td>\n",
       "      <td>2.0</td>\n",
       "      <td>96001</td>\n",
       "      <td>Stasiun Meteorologi Maimun Saleh</td>\n",
       "      <td>Kota Sabang</td>\n",
       "      <td>5.87655</td>\n",
       "      <td>95.33785</td>\n",
       "      <td>20</td>\n",
       "      <td>1</td>\n",
       "    </tr>\n",
       "  </tbody>\n",
       "</table>\n",
       "</div>"
      ],
      "text/plain": [
       "         date    Tn    Tx  Tavg  RH_avg    RR   ss  ff_x  ddd_x  ff_avg  \\\n",
       "0  2010-01-01  21.4  30.2  27.1    82.0   9.0  0.5   7.0   90.0     5.0   \n",
       "1  2010-01-02  21.0  29.6  25.7    95.0  24.0  0.2   6.0   90.0     4.0   \n",
       "2  2010-01-03  20.2  26.8  24.5    98.0  63.0  0.0   5.0   90.0     4.0   \n",
       "3  2010-01-04  21.0  29.2  25.8    90.0   0.0  0.1   4.0  225.0     3.0   \n",
       "4  2010-01-05  21.2  30.0  26.7    90.0   2.0  0.4   6.5  157.5     2.0   \n",
       "\n",
       "   station_id                      station_name  region_name  latitude  \\\n",
       "0       96001  Stasiun Meteorologi Maimun Saleh  Kota Sabang   5.87655   \n",
       "1       96001  Stasiun Meteorologi Maimun Saleh  Kota Sabang   5.87655   \n",
       "2       96001  Stasiun Meteorologi Maimun Saleh  Kota Sabang   5.87655   \n",
       "3       96001  Stasiun Meteorologi Maimun Saleh  Kota Sabang   5.87655   \n",
       "4       96001  Stasiun Meteorologi Maimun Saleh  Kota Sabang   5.87655   \n",
       "\n",
       "   longitude  region_id  province_id  \n",
       "0   95.33785         20            1  \n",
       "1   95.33785         20            1  \n",
       "2   95.33785         20            1  \n",
       "3   95.33785         20            1  \n",
       "4   95.33785         20            1  "
      ]
     },
     "execution_count": 89,
     "metadata": {},
     "output_type": "execute_result"
    }
   ],
   "source": [
    "cm.head()"
   ]
  },
  {
   "cell_type": "markdown",
   "id": "b75d4fed",
   "metadata": {},
   "source": [
    "데이터 전체 크기 확인"
   ]
  },
  {
   "cell_type": "code",
   "execution_count": 34,
   "id": "120200b8",
   "metadata": {},
   "outputs": [
    {
     "data": {
      "text/plain": [
       "(589067, 17)"
      ]
     },
     "execution_count": 34,
     "metadata": {},
     "output_type": "execute_result"
    }
   ],
   "source": [
    "cm.shape"
   ]
  },
  {
   "cell_type": "markdown",
   "id": "00755991",
   "metadata": {},
   "source": [
    "## 3. 시계열 데이터 예측"
   ]
  },
  {
   "cell_type": "markdown",
   "id": "27091cea",
   "metadata": {},
   "source": [
    "* Kota Sabang지역 Tavg(평균 온도) 예측"
   ]
  },
  {
   "cell_type": "code",
   "execution_count": 97,
   "id": "73973e1c",
   "metadata": {},
   "outputs": [],
   "source": [
    "cm = cm[cm['region_name'] == 'Kota Sabang']"
   ]
  },
  {
   "cell_type": "code",
   "execution_count": 91,
   "id": "66ba4081",
   "metadata": {},
   "outputs": [
    {
     "data": {
      "text/html": [
       "<div>\n",
       "<style scoped>\n",
       "    .dataframe tbody tr th:only-of-type {\n",
       "        vertical-align: middle;\n",
       "    }\n",
       "\n",
       "    .dataframe tbody tr th {\n",
       "        vertical-align: top;\n",
       "    }\n",
       "\n",
       "    .dataframe thead th {\n",
       "        text-align: right;\n",
       "    }\n",
       "</style>\n",
       "<table border=\"1\" class=\"dataframe\">\n",
       "  <thead>\n",
       "    <tr style=\"text-align: right;\">\n",
       "      <th></th>\n",
       "      <th>date</th>\n",
       "      <th>Tn</th>\n",
       "      <th>Tx</th>\n",
       "      <th>Tavg</th>\n",
       "      <th>RH_avg</th>\n",
       "      <th>RR</th>\n",
       "      <th>ss</th>\n",
       "      <th>ff_x</th>\n",
       "      <th>ddd_x</th>\n",
       "      <th>ff_avg</th>\n",
       "      <th>station_id</th>\n",
       "      <th>station_name</th>\n",
       "      <th>region_name</th>\n",
       "      <th>latitude</th>\n",
       "      <th>longitude</th>\n",
       "      <th>region_id</th>\n",
       "      <th>province_id</th>\n",
       "    </tr>\n",
       "  </thead>\n",
       "  <tbody>\n",
       "    <tr>\n",
       "      <th>0</th>\n",
       "      <td>2010-01-01</td>\n",
       "      <td>21.4</td>\n",
       "      <td>30.2</td>\n",
       "      <td>27.1</td>\n",
       "      <td>82.0</td>\n",
       "      <td>9.0</td>\n",
       "      <td>0.5</td>\n",
       "      <td>7.0</td>\n",
       "      <td>90.0</td>\n",
       "      <td>5.0</td>\n",
       "      <td>96001</td>\n",
       "      <td>Stasiun Meteorologi Maimun Saleh</td>\n",
       "      <td>Kota Sabang</td>\n",
       "      <td>5.87655</td>\n",
       "      <td>95.33785</td>\n",
       "      <td>20</td>\n",
       "      <td>1</td>\n",
       "    </tr>\n",
       "    <tr>\n",
       "      <th>1</th>\n",
       "      <td>2010-01-02</td>\n",
       "      <td>21.0</td>\n",
       "      <td>29.6</td>\n",
       "      <td>25.7</td>\n",
       "      <td>95.0</td>\n",
       "      <td>24.0</td>\n",
       "      <td>0.2</td>\n",
       "      <td>6.0</td>\n",
       "      <td>90.0</td>\n",
       "      <td>4.0</td>\n",
       "      <td>96001</td>\n",
       "      <td>Stasiun Meteorologi Maimun Saleh</td>\n",
       "      <td>Kota Sabang</td>\n",
       "      <td>5.87655</td>\n",
       "      <td>95.33785</td>\n",
       "      <td>20</td>\n",
       "      <td>1</td>\n",
       "    </tr>\n",
       "    <tr>\n",
       "      <th>2</th>\n",
       "      <td>2010-01-03</td>\n",
       "      <td>20.2</td>\n",
       "      <td>26.8</td>\n",
       "      <td>24.5</td>\n",
       "      <td>98.0</td>\n",
       "      <td>63.0</td>\n",
       "      <td>0.0</td>\n",
       "      <td>5.0</td>\n",
       "      <td>90.0</td>\n",
       "      <td>4.0</td>\n",
       "      <td>96001</td>\n",
       "      <td>Stasiun Meteorologi Maimun Saleh</td>\n",
       "      <td>Kota Sabang</td>\n",
       "      <td>5.87655</td>\n",
       "      <td>95.33785</td>\n",
       "      <td>20</td>\n",
       "      <td>1</td>\n",
       "    </tr>\n",
       "    <tr>\n",
       "      <th>3</th>\n",
       "      <td>2010-01-04</td>\n",
       "      <td>21.0</td>\n",
       "      <td>29.2</td>\n",
       "      <td>25.8</td>\n",
       "      <td>90.0</td>\n",
       "      <td>0.0</td>\n",
       "      <td>0.1</td>\n",
       "      <td>4.0</td>\n",
       "      <td>225.0</td>\n",
       "      <td>3.0</td>\n",
       "      <td>96001</td>\n",
       "      <td>Stasiun Meteorologi Maimun Saleh</td>\n",
       "      <td>Kota Sabang</td>\n",
       "      <td>5.87655</td>\n",
       "      <td>95.33785</td>\n",
       "      <td>20</td>\n",
       "      <td>1</td>\n",
       "    </tr>\n",
       "    <tr>\n",
       "      <th>4</th>\n",
       "      <td>2010-01-05</td>\n",
       "      <td>21.2</td>\n",
       "      <td>30.0</td>\n",
       "      <td>26.7</td>\n",
       "      <td>90.0</td>\n",
       "      <td>2.0</td>\n",
       "      <td>0.4</td>\n",
       "      <td>6.5</td>\n",
       "      <td>157.5</td>\n",
       "      <td>2.0</td>\n",
       "      <td>96001</td>\n",
       "      <td>Stasiun Meteorologi Maimun Saleh</td>\n",
       "      <td>Kota Sabang</td>\n",
       "      <td>5.87655</td>\n",
       "      <td>95.33785</td>\n",
       "      <td>20</td>\n",
       "      <td>1</td>\n",
       "    </tr>\n",
       "  </tbody>\n",
       "</table>\n",
       "</div>"
      ],
      "text/plain": [
       "         date    Tn    Tx  Tavg  RH_avg    RR   ss  ff_x  ddd_x  ff_avg  \\\n",
       "0  2010-01-01  21.4  30.2  27.1    82.0   9.0  0.5   7.0   90.0     5.0   \n",
       "1  2010-01-02  21.0  29.6  25.7    95.0  24.0  0.2   6.0   90.0     4.0   \n",
       "2  2010-01-03  20.2  26.8  24.5    98.0  63.0  0.0   5.0   90.0     4.0   \n",
       "3  2010-01-04  21.0  29.2  25.8    90.0   0.0  0.1   4.0  225.0     3.0   \n",
       "4  2010-01-05  21.2  30.0  26.7    90.0   2.0  0.4   6.5  157.5     2.0   \n",
       "\n",
       "   station_id                      station_name  region_name  latitude  \\\n",
       "0       96001  Stasiun Meteorologi Maimun Saleh  Kota Sabang   5.87655   \n",
       "1       96001  Stasiun Meteorologi Maimun Saleh  Kota Sabang   5.87655   \n",
       "2       96001  Stasiun Meteorologi Maimun Saleh  Kota Sabang   5.87655   \n",
       "3       96001  Stasiun Meteorologi Maimun Saleh  Kota Sabang   5.87655   \n",
       "4       96001  Stasiun Meteorologi Maimun Saleh  Kota Sabang   5.87655   \n",
       "\n",
       "   longitude  region_id  province_id  \n",
       "0   95.33785         20            1  \n",
       "1   95.33785         20            1  \n",
       "2   95.33785         20            1  \n",
       "3   95.33785         20            1  \n",
       "4   95.33785         20            1  "
      ]
     },
     "execution_count": 91,
     "metadata": {},
     "output_type": "execute_result"
    }
   ],
   "source": [
    "cm.head()"
   ]
  },
  {
   "cell_type": "code",
   "execution_count": 98,
   "id": "1c45b61f",
   "metadata": {},
   "outputs": [
    {
     "data": {
      "text/html": [
       "<div>\n",
       "<style scoped>\n",
       "    .dataframe tbody tr th:only-of-type {\n",
       "        vertical-align: middle;\n",
       "    }\n",
       "\n",
       "    .dataframe tbody tr th {\n",
       "        vertical-align: top;\n",
       "    }\n",
       "\n",
       "    .dataframe thead th {\n",
       "        text-align: right;\n",
       "    }\n",
       "</style>\n",
       "<table border=\"1\" class=\"dataframe\">\n",
       "  <thead>\n",
       "    <tr style=\"text-align: right;\">\n",
       "      <th></th>\n",
       "      <th>date</th>\n",
       "      <th>Tn</th>\n",
       "      <th>Tx</th>\n",
       "      <th>Tavg</th>\n",
       "      <th>RH_avg</th>\n",
       "      <th>RR</th>\n",
       "      <th>ss</th>\n",
       "      <th>ff_x</th>\n",
       "      <th>ddd_x</th>\n",
       "      <th>ff_avg</th>\n",
       "      <th>station_id</th>\n",
       "      <th>station_name</th>\n",
       "      <th>region_name</th>\n",
       "      <th>latitude</th>\n",
       "      <th>longitude</th>\n",
       "      <th>region_id</th>\n",
       "      <th>province_id</th>\n",
       "    </tr>\n",
       "  </thead>\n",
       "  <tbody>\n",
       "    <tr>\n",
       "      <th>0</th>\n",
       "      <td>2010-01-01</td>\n",
       "      <td>21.4</td>\n",
       "      <td>30.2</td>\n",
       "      <td>27.1</td>\n",
       "      <td>82.0</td>\n",
       "      <td>9.0</td>\n",
       "      <td>0.5</td>\n",
       "      <td>7.0</td>\n",
       "      <td>90.0</td>\n",
       "      <td>5.0</td>\n",
       "      <td>96001</td>\n",
       "      <td>Stasiun Meteorologi Maimun Saleh</td>\n",
       "      <td>Kota Sabang</td>\n",
       "      <td>5.87655</td>\n",
       "      <td>95.33785</td>\n",
       "      <td>20</td>\n",
       "      <td>1</td>\n",
       "    </tr>\n",
       "    <tr>\n",
       "      <th>1</th>\n",
       "      <td>2010-01-02</td>\n",
       "      <td>21.0</td>\n",
       "      <td>29.6</td>\n",
       "      <td>25.7</td>\n",
       "      <td>95.0</td>\n",
       "      <td>24.0</td>\n",
       "      <td>0.2</td>\n",
       "      <td>6.0</td>\n",
       "      <td>90.0</td>\n",
       "      <td>4.0</td>\n",
       "      <td>96001</td>\n",
       "      <td>Stasiun Meteorologi Maimun Saleh</td>\n",
       "      <td>Kota Sabang</td>\n",
       "      <td>5.87655</td>\n",
       "      <td>95.33785</td>\n",
       "      <td>20</td>\n",
       "      <td>1</td>\n",
       "    </tr>\n",
       "    <tr>\n",
       "      <th>2</th>\n",
       "      <td>2010-01-03</td>\n",
       "      <td>20.2</td>\n",
       "      <td>26.8</td>\n",
       "      <td>24.5</td>\n",
       "      <td>98.0</td>\n",
       "      <td>63.0</td>\n",
       "      <td>0.0</td>\n",
       "      <td>5.0</td>\n",
       "      <td>90.0</td>\n",
       "      <td>4.0</td>\n",
       "      <td>96001</td>\n",
       "      <td>Stasiun Meteorologi Maimun Saleh</td>\n",
       "      <td>Kota Sabang</td>\n",
       "      <td>5.87655</td>\n",
       "      <td>95.33785</td>\n",
       "      <td>20</td>\n",
       "      <td>1</td>\n",
       "    </tr>\n",
       "    <tr>\n",
       "      <th>3</th>\n",
       "      <td>2010-01-04</td>\n",
       "      <td>21.0</td>\n",
       "      <td>29.2</td>\n",
       "      <td>25.8</td>\n",
       "      <td>90.0</td>\n",
       "      <td>0.0</td>\n",
       "      <td>0.1</td>\n",
       "      <td>4.0</td>\n",
       "      <td>225.0</td>\n",
       "      <td>3.0</td>\n",
       "      <td>96001</td>\n",
       "      <td>Stasiun Meteorologi Maimun Saleh</td>\n",
       "      <td>Kota Sabang</td>\n",
       "      <td>5.87655</td>\n",
       "      <td>95.33785</td>\n",
       "      <td>20</td>\n",
       "      <td>1</td>\n",
       "    </tr>\n",
       "    <tr>\n",
       "      <th>4</th>\n",
       "      <td>2010-01-05</td>\n",
       "      <td>21.2</td>\n",
       "      <td>30.0</td>\n",
       "      <td>26.7</td>\n",
       "      <td>90.0</td>\n",
       "      <td>2.0</td>\n",
       "      <td>0.4</td>\n",
       "      <td>6.5</td>\n",
       "      <td>157.5</td>\n",
       "      <td>2.0</td>\n",
       "      <td>96001</td>\n",
       "      <td>Stasiun Meteorologi Maimun Saleh</td>\n",
       "      <td>Kota Sabang</td>\n",
       "      <td>5.87655</td>\n",
       "      <td>95.33785</td>\n",
       "      <td>20</td>\n",
       "      <td>1</td>\n",
       "    </tr>\n",
       "  </tbody>\n",
       "</table>\n",
       "</div>"
      ],
      "text/plain": [
       "        date    Tn    Tx  Tavg  RH_avg    RR   ss  ff_x  ddd_x  ff_avg  \\\n",
       "0 2010-01-01  21.4  30.2  27.1    82.0   9.0  0.5   7.0   90.0     5.0   \n",
       "1 2010-01-02  21.0  29.6  25.7    95.0  24.0  0.2   6.0   90.0     4.0   \n",
       "2 2010-01-03  20.2  26.8  24.5    98.0  63.0  0.0   5.0   90.0     4.0   \n",
       "3 2010-01-04  21.0  29.2  25.8    90.0   0.0  0.1   4.0  225.0     3.0   \n",
       "4 2010-01-05  21.2  30.0  26.7    90.0   2.0  0.4   6.5  157.5     2.0   \n",
       "\n",
       "   station_id                      station_name  region_name  latitude  \\\n",
       "0       96001  Stasiun Meteorologi Maimun Saleh  Kota Sabang   5.87655   \n",
       "1       96001  Stasiun Meteorologi Maimun Saleh  Kota Sabang   5.87655   \n",
       "2       96001  Stasiun Meteorologi Maimun Saleh  Kota Sabang   5.87655   \n",
       "3       96001  Stasiun Meteorologi Maimun Saleh  Kota Sabang   5.87655   \n",
       "4       96001  Stasiun Meteorologi Maimun Saleh  Kota Sabang   5.87655   \n",
       "\n",
       "   longitude  region_id  province_id  \n",
       "0   95.33785         20            1  \n",
       "1   95.33785         20            1  \n",
       "2   95.33785         20            1  \n",
       "3   95.33785         20            1  \n",
       "4   95.33785         20            1  "
      ]
     },
     "execution_count": 98,
     "metadata": {},
     "output_type": "execute_result"
    }
   ],
   "source": [
    "cm['date'] = pd.to_datetime(cm['date'])\n",
    "cm.head()"
   ]
  },
  {
   "cell_type": "code",
   "execution_count": 93,
   "id": "37c367e9",
   "metadata": {},
   "outputs": [],
   "source": [
    "df = cm[['Tavg']]"
   ]
  },
  {
   "cell_type": "code",
   "execution_count": 54,
   "id": "05a6e8c6",
   "metadata": {},
   "outputs": [
    {
     "data": {
      "text/plain": [
       "<AxesSubplot:xlabel='date'>"
      ]
     },
     "execution_count": 54,
     "metadata": {},
     "output_type": "execute_result"
    },
    {
     "data": {
      "image/png": "[encoded data removed]",
      "text/plain": [
       "<Figure size 864x576 with 1 Axes>"
      ]
     },
     "metadata": {
      "needs_background": "light"
     },
     "output_type": "display_data"
    }
   ],
   "source": [
    "df.plot(figsize = (12,8))"
   ]
  },
  {
   "cell_type": "markdown",
   "id": "15bc4929",
   "metadata": {},
   "source": [
    "### 3-1 ARIMA모델을 사용한 예측"
   ]
  },
  {
   "cell_type": "code",
   "execution_count": 12,
   "id": "51847e67",
   "metadata": {},
   "outputs": [],
   "source": [
    "from statsmodels.tsa.arima_model import ARIMA\n",
    "from pmdarima import auto_arima"
   ]
  },
  {
   "cell_type": "markdown",
   "id": "c6c28516",
   "metadata": {},
   "source": [
    "#### train, test 데이터셋 분리"
   ]
  },
  {
   "cell_type": "code",
   "execution_count": 99,
   "id": "5036e4d4",
   "metadata": {},
   "outputs": [],
   "source": [
    "df = cm[['date','Tavg']]"
   ]
  },
  {
   "cell_type": "code",
   "execution_count": 100,
   "id": "8da61953",
   "metadata": {},
   "outputs": [],
   "source": [
    "train = df.iloc[:-24]\n",
    "test = df.iloc[-24:]"
   ]
  },
  {
   "cell_type": "markdown",
   "id": "ea0b0136",
   "metadata": {},
   "source": [
    "#### auto_arima 함수를 사용해서 최적의 모형을 탐색한다"
   ]
  },
  {
   "cell_type": "code",
   "execution_count": 40,
   "id": "dd0feb7a",
   "metadata": {},
   "outputs": [
    {
     "name": "stdout",
     "output_type": "stream",
     "text": [
      "Performing stepwise search to minimize aic\n",
      " ARIMA(2,1,2)(0,0,0)[0] intercept   : AIC=9800.808, Time=5.76 sec\n",
      " ARIMA(0,1,0)(0,0,0)[0] intercept   : AIC=10989.288, Time=0.19 sec\n",
      " ARIMA(1,1,0)(0,0,0)[0] intercept   : AIC=10428.520, Time=0.43 sec\n",
      " ARIMA(0,1,1)(0,0,0)[0] intercept   : AIC=10009.345, Time=0.64 sec\n",
      " ARIMA(0,1,0)(0,0,0)[0]             : AIC=10987.289, Time=0.14 sec\n",
      " ARIMA(1,1,2)(0,0,0)[0] intercept   : AIC=9800.408, Time=3.89 sec\n",
      " ARIMA(0,1,2)(0,0,0)[0] intercept   : AIC=9886.595, Time=1.15 sec\n",
      " ARIMA(1,1,1)(0,0,0)[0] intercept   : AIC=9833.533, Time=1.45 sec\n",
      " ARIMA(1,1,3)(0,0,0)[0] intercept   : AIC=9800.529, Time=4.55 sec\n",
      " ARIMA(0,1,3)(0,0,0)[0] intercept   : AIC=9848.688, Time=1.61 sec\n",
      " ARIMA(2,1,1)(0,0,0)[0] intercept   : AIC=9809.055, Time=1.94 sec\n",
      " ARIMA(2,1,3)(0,0,0)[0] intercept   : AIC=9804.379, Time=4.57 sec\n",
      " ARIMA(1,1,2)(0,0,0)[0]             : AIC=9798.414, Time=0.98 sec\n",
      " ARIMA(0,1,2)(0,0,0)[0]             : AIC=9884.598, Time=0.42 sec\n",
      " ARIMA(1,1,1)(0,0,0)[0]             : AIC=9831.537, Time=0.50 sec\n",
      " ARIMA(2,1,2)(0,0,0)[0]             : AIC=9798.806, Time=1.86 sec\n",
      " ARIMA(1,1,3)(0,0,0)[0]             : AIC=9798.535, Time=1.61 sec\n",
      " ARIMA(0,1,1)(0,0,0)[0]             : AIC=10007.348, Time=0.27 sec\n",
      " ARIMA(0,1,3)(0,0,0)[0]             : AIC=9846.692, Time=0.62 sec\n",
      " ARIMA(2,1,1)(0,0,0)[0]             : AIC=9807.060, Time=0.70 sec\n",
      " ARIMA(2,1,3)(0,0,0)[0]             : AIC=9802.383, Time=1.41 sec\n",
      "\n",
      "Best model:  ARIMA(1,1,2)(0,0,0)[0]          \n",
      "Total fit time: 34.735 seconds\n"
     ]
    }
   ],
   "source": [
    "model = auto_arima(train['Tavg'],trace = True)"
   ]
  },
  {
   "cell_type": "markdown",
   "id": "26020f9b",
   "metadata": {},
   "source": [
    "auto_arima를 사용해서 최적의 모델은 ARIMA(1,1,2)모델로 나왔다."
   ]
  },
  {
   "cell_type": "code",
   "execution_count": 19,
   "id": "ac6e6b3a",
   "metadata": {},
   "outputs": [
    {
     "name": "stderr",
     "output_type": "stream",
     "text": [
      "C:\\Users\\User\\anaconda3\\lib\\site-packages\\statsmodels\\tsa\\base\\tsa_model.py:834: ValueWarning: No supported index is available. Prediction results will be given with an integer index beginning at `start`.\n",
      "  return get_prediction_index(\n"
     ]
    }
   ],
   "source": [
    "model.fit(train)\n",
    "prediction = model.predict(24)"
   ]
  },
  {
   "cell_type": "markdown",
   "id": "f3cbe812",
   "metadata": {},
   "source": [
    "model에 train 데이터셋을 넣어서 test 데이터셋 크기와 같은  \n",
    "24일 후를 예측한다."
   ]
  },
  {
   "cell_type": "markdown",
   "id": "4cf71cae",
   "metadata": {},
   "source": [
    "시각화를 해서 예측데이터와 test데이터를 비교해보면"
   ]
  },
  {
   "cell_type": "code",
   "execution_count": 53,
   "id": "75dd5554",
   "metadata": {},
   "outputs": [
    {
     "data": {
      "text/plain": [
       "<AxesSubplot:>"
      ]
     },
     "execution_count": 53,
     "metadata": {},
     "output_type": "execute_result"
    },
    {
     "data": {
      "image/png": "[encoded data removed]",
      "text/plain": [
       "<Figure size 864x576 with 1 Axes>"
      ]
     },
     "metadata": {
      "needs_background": "light"
     },
     "output_type": "display_data"
    }
   ],
   "source": [
    "ax = test.plot(y = 'Tavg',label = 'Test',figsize = (12,8),legend = True)\n",
    "prediction.plot(label = 'Prediction',legend = True)"
   ]
  },
  {
   "cell_type": "markdown",
   "id": "e68c6928",
   "metadata": {},
   "source": [
    "예측 결과가 일직선으로 예측 되었다   \n",
    "왜 auto_arima는 이런 모델을 예측했을까?"
   ]
  },
  {
   "cell_type": "markdown",
   "id": "f940dffa",
   "metadata": {},
   "source": [
    "데이터에 특정한 주기나 추세가 없기때문에 모형을 최적화하는   \n",
    "과정에서 자기상관(AR)과 이동평균(MA)를 찾기 어려웠기 때문이다.  \n",
    "결과적으로 데이터에서 어떠한 구조를 보기 어렵기 때문에   \n",
    "가장 마지막 관측치가 가장 좋은 예측치라고 말하고 있는 것이다."
   ]
  },
  {
   "cell_type": "markdown",
   "id": "39c1a2b4",
   "metadata": {},
   "source": [
    "하지만 우리가 원하는 예측은 이런 예측이 아니기 때문에   \n",
    "다른 방법인 한번에 test 데이터셋 전체를 예측하는 것이 아닌  \n",
    "1일을 예측하고 모델을 업데이트하는 방법을 사용할것이다.  "
   ]
  },
  {
   "cell_type": "code",
   "execution_count": 59,
   "id": "eea6bdb2",
   "metadata": {},
   "outputs": [],
   "source": [
    "pred_y = []\n",
    "for i in test['Tavg'] : \n",
    "    pred = model.predict(1)\n",
    "    pred_y.append(pred.tolist()[0])\n",
    "    model.update(i)"
   ]
  },
  {
   "cell_type": "code",
   "execution_count": 63,
   "id": "8647f6ce",
   "metadata": {},
   "outputs": [
    {
     "data": {
      "text/html": [
       "<div>\n",
       "<style scoped>\n",
       "    .dataframe tbody tr th:only-of-type {\n",
       "        vertical-align: middle;\n",
       "    }\n",
       "\n",
       "    .dataframe tbody tr th {\n",
       "        vertical-align: top;\n",
       "    }\n",
       "\n",
       "    .dataframe thead th {\n",
       "        text-align: right;\n",
       "    }\n",
       "</style>\n",
       "<table border=\"1\" class=\"dataframe\">\n",
       "  <thead>\n",
       "    <tr style=\"text-align: right;\">\n",
       "      <th></th>\n",
       "      <th>test</th>\n",
       "      <th>prediction</th>\n",
       "    </tr>\n",
       "  </thead>\n",
       "  <tbody>\n",
       "    <tr>\n",
       "      <th>3797</th>\n",
       "      <td>26.7</td>\n",
       "      <td>26.789526</td>\n",
       "    </tr>\n",
       "    <tr>\n",
       "      <th>3798</th>\n",
       "      <td>27.4</td>\n",
       "      <td>26.592896</td>\n",
       "    </tr>\n",
       "    <tr>\n",
       "      <th>3799</th>\n",
       "      <td>27.1</td>\n",
       "      <td>26.826327</td>\n",
       "    </tr>\n",
       "    <tr>\n",
       "      <th>3800</th>\n",
       "      <td>25.9</td>\n",
       "      <td>26.793390</td>\n",
       "    </tr>\n",
       "    <tr>\n",
       "      <th>3801</th>\n",
       "      <td>24.7</td>\n",
       "      <td>26.311720</td>\n",
       "    </tr>\n",
       "  </tbody>\n",
       "</table>\n",
       "</div>"
      ],
      "text/plain": [
       "      test  prediction\n",
       "3797  26.7   26.789526\n",
       "3798  27.4   26.592896\n",
       "3799  27.1   26.826327\n",
       "3800  25.9   26.793390\n",
       "3801  24.7   26.311720"
      ]
     },
     "execution_count": 63,
     "metadata": {},
     "output_type": "execute_result"
    }
   ],
   "source": [
    "prediction_1 = pd.DataFrame({\"test\" : test['Tavg'],\"prediction\" : pred_y})\n",
    "prediction_1.head()"
   ]
  },
  {
   "cell_type": "code",
   "execution_count": 66,
   "id": "93e9afd1",
   "metadata": {},
   "outputs": [
    {
     "data": {
      "text/plain": [
       "<AxesSubplot:>"
      ]
     },
     "execution_count": 66,
     "metadata": {},
     "output_type": "execute_result"
    },
    {
     "data": {
      "image/png": "[encoded data removed]",
      "text/plain": [
       "<Figure size 864x576 with 1 Axes>"
      ]
     },
     "metadata": {
      "needs_background": "light"
     },
     "output_type": "display_data"
    }
   ],
   "source": [
    "prediction_1.plot(figsize = (12,8))"
   ]
  },
  {
   "cell_type": "markdown",
   "id": "21587d4f",
   "metadata": {},
   "source": [
    "#### 모델 검증"
   ]
  },
  {
   "cell_type": "code",
   "execution_count": 67,
   "id": "1aa061a6",
   "metadata": {},
   "outputs": [],
   "source": [
    "from sklearn.metrics import mean_squared_error"
   ]
  },
  {
   "cell_type": "code",
   "execution_count": 71,
   "id": "a49b08bd",
   "metadata": {},
   "outputs": [
    {
     "data": {
      "text/plain": [
       "2.808480224686483"
      ]
     },
     "execution_count": 71,
     "metadata": {},
     "output_type": "execute_result"
    }
   ],
   "source": [
    "(mean_squared_error(prediction_1['test'],prediction_1['prediction']))**0.5*100/prediction_1['test'].mean()"
   ]
  },
  {
   "cell_type": "markdown",
   "id": "58e9c95a",
   "metadata": {
    "scrolled": false
   },
   "source": [
    "예측결과가 일직선인 모델이 아닌  \n",
    "오차값이 ±2.8%인 예측을 하였다"
   ]
  },
  {
   "cell_type": "markdown",
   "id": "bb17b006",
   "metadata": {},
   "source": [
    "이 모델을 바탕으로 앞으로 일어날 미래에 대한   \n",
    "예측을 진행해 보자"
   ]
  },
  {
   "cell_type": "markdown",
   "id": "73177eac",
   "metadata": {},
   "source": [
    "#### 불확실한 미래에 대한 예측(30일)"
   ]
  },
  {
   "cell_type": "code",
   "execution_count": 72,
   "id": "2a99cfc3",
   "metadata": {},
   "outputs": [
    {
     "data": {
      "text/plain": [
       "array([26.57849909])"
      ]
     },
     "execution_count": 72,
     "metadata": {},
     "output_type": "execute_result"
    }
   ],
   "source": [
    "model.fit(df['Tavg'])"
   ]
  },
  {
   "cell_type": "code",
   "execution_count": 101,
   "id": "b4e5ec43",
   "metadata": {},
   "outputs": [],
   "source": [
    "pred_real = []\n",
    "for i in range(30): \n",
    "    pred_re = model.predict(1)\n",
    "    pred_real.append(pred_re.tolist()[0])\n",
    "    df['Tavg'].loc[len(df)] = pred_re.tolist()[0]\n",
    "    model.update(pred_re.tolist()[0])\n",
    "    i += 1"
   ]
  },
  {
   "cell_type": "code",
   "execution_count": 80,
   "id": "ec379352",
   "metadata": {},
   "outputs": [
    {
     "data": {
      "text/html": [
       "<div>\n",
       "<style scoped>\n",
       "    .dataframe tbody tr th:only-of-type {\n",
       "        vertical-align: middle;\n",
       "    }\n",
       "\n",
       "    .dataframe tbody tr th {\n",
       "        vertical-align: top;\n",
       "    }\n",
       "\n",
       "    .dataframe thead th {\n",
       "        text-align: right;\n",
       "    }\n",
       "</style>\n",
       "<table border=\"1\" class=\"dataframe\">\n",
       "  <thead>\n",
       "    <tr style=\"text-align: right;\">\n",
       "      <th></th>\n",
       "      <th>prediction</th>\n",
       "    </tr>\n",
       "  </thead>\n",
       "  <tbody>\n",
       "    <tr>\n",
       "      <th>0</th>\n",
       "      <td>26.798921</td>\n",
       "    </tr>\n",
       "    <tr>\n",
       "      <th>1</th>\n",
       "      <td>26.641407</td>\n",
       "    </tr>\n",
       "    <tr>\n",
       "      <th>2</th>\n",
       "      <td>26.540517</td>\n",
       "    </tr>\n",
       "    <tr>\n",
       "      <th>3</th>\n",
       "      <td>26.476348</td>\n",
       "    </tr>\n",
       "    <tr>\n",
       "      <th>4</th>\n",
       "      <td>26.435228</td>\n",
       "    </tr>\n",
       "  </tbody>\n",
       "</table>\n",
       "</div>"
      ],
      "text/plain": [
       "   prediction\n",
       "0   26.798921\n",
       "1   26.641407\n",
       "2   26.540517\n",
       "3   26.476348\n",
       "4   26.435228"
      ]
     },
     "execution_count": 80,
     "metadata": {},
     "output_type": "execute_result"
    }
   ],
   "source": [
    "prediction_re = pd.DataFrame({\"prediction\" : pred_real})\n",
    "prediction_re.head()"
   ]
  },
  {
   "cell_type": "code",
   "execution_count": 116,
   "id": "94167fe1",
   "metadata": {
    "scrolled": false
   },
   "outputs": [
    {
     "data": {
      "text/plain": [
       "<AxesSubplot:>"
      ]
     },
     "execution_count": 116,
     "metadata": {},
     "output_type": "execute_result"
    },
    {
     "data": {
      "image/png": "[encoded data removed]",
      "text/plain": [
       "<Figure size 864x576 with 1 Axes>"
      ]
     },
     "metadata": {
      "needs_background": "light"
     },
     "output_type": "display_data"
    }
   ],
   "source": [
    "ax = df['Tavg'].iloc[-50:-30].plot(label = 'real',figsize = (12,8),legend = True)\n",
    "df['Tavg'].iloc[-31:].plot(label = 'Prediction',legend = True,ax =ax)"
   ]
  },
  {
   "cell_type": "markdown",
   "id": "30afbee9",
   "metadata": {},
   "source": [
    "불확실한 미래에 대해서는 이전에 train 데이터셋으로 test 데이터셋을  \n",
    "예측했을 때와 같은 모습을 보여주고 있다.  \n",
    "전에 train 데이터 셋으로 할 때는 하루 예측하고 다음날 데이터가 있기 때문에   \n",
    "보다 정확한 예측이 가능했다.   \n",
    "결론적으로 예측 결과과 조금 허무하다. 결국 1일전 데이터를 업데이트 해주면  \n",
    "다음날의 예측값만 정확하게 예측을 진행할수 있다.  \n",
    "ARIMA 모형은 추세와 계절성이 있을 때 보다정확한 예측이 가능할 것 같다."
   ]
  },
  {
   "cell_type": "markdown",
   "id": "75d08941",
   "metadata": {},
   "source": [
    "### 3-2 Prophet을 이용한 예측"
   ]
  },
  {
   "cell_type": "markdown",
   "id": "a7541159",
   "metadata": {},
   "source": [
    "ARIMA모델에서 사용하던 train, test 데이터셋을 사용한다."
   ]
  },
  {
   "cell_type": "code",
   "execution_count": 121,
   "id": "1680aea4",
   "metadata": {},
   "outputs": [],
   "source": [
    "from prophet import Prophet"
   ]
  },
  {
   "cell_type": "code",
   "execution_count": 123,
   "id": "0e853fc3",
   "metadata": {},
   "outputs": [],
   "source": [
    "train.columns = ['ds','y']"
   ]
  },
  {
   "cell_type": "code",
   "execution_count": 124,
   "id": "8b132421",
   "metadata": {},
   "outputs": [
    {
     "name": "stderr",
     "output_type": "stream",
     "text": [
      "12:57:17 - cmdstanpy - INFO - Chain [1] start processing\n",
      "12:57:18 - cmdstanpy - INFO - Chain [1] done processing\n"
     ]
    }
   ],
   "source": [
    "p = Prophet()\n",
    "p.fit(train)\n",
    "future = p.make_future_dataframe(periods=24,freq='D')\n",
    "forecast = p.predict(future)"
   ]
  },
  {
   "cell_type": "code",
   "execution_count": 134,
   "id": "5666d319",
   "metadata": {
    "scrolled": false
   },
   "outputs": [
    {
     "data": {
      "text/html": [
       "<div>\n",
       "<style scoped>\n",
       "    .dataframe tbody tr th:only-of-type {\n",
       "        vertical-align: middle;\n",
       "    }\n",
       "\n",
       "    .dataframe tbody tr th {\n",
       "        vertical-align: top;\n",
       "    }\n",
       "\n",
       "    .dataframe thead th {\n",
       "        text-align: right;\n",
       "    }\n",
       "</style>\n",
       "<table border=\"1\" class=\"dataframe\">\n",
       "  <thead>\n",
       "    <tr style=\"text-align: right;\">\n",
       "      <th></th>\n",
       "      <th>ds</th>\n",
       "      <th>trend</th>\n",
       "      <th>yhat_lower</th>\n",
       "      <th>yhat_upper</th>\n",
       "      <th>trend_lower</th>\n",
       "      <th>trend_upper</th>\n",
       "      <th>additive_terms</th>\n",
       "      <th>additive_terms_lower</th>\n",
       "      <th>additive_terms_upper</th>\n",
       "      <th>weekly</th>\n",
       "      <th>weekly_lower</th>\n",
       "      <th>weekly_upper</th>\n",
       "      <th>yearly</th>\n",
       "      <th>yearly_lower</th>\n",
       "      <th>yearly_upper</th>\n",
       "      <th>multiplicative_terms</th>\n",
       "      <th>multiplicative_terms_lower</th>\n",
       "      <th>multiplicative_terms_upper</th>\n",
       "      <th>yhat</th>\n",
       "    </tr>\n",
       "  </thead>\n",
       "  <tbody>\n",
       "    <tr>\n",
       "      <th>0</th>\n",
       "      <td>2010-01-01</td>\n",
       "      <td>27.390079</td>\n",
       "      <td>25.259112</td>\n",
       "      <td>27.718564</td>\n",
       "      <td>27.390079</td>\n",
       "      <td>27.390079</td>\n",
       "      <td>-0.885234</td>\n",
       "      <td>-0.885234</td>\n",
       "      <td>-0.885234</td>\n",
       "      <td>0.021097</td>\n",
       "      <td>0.021097</td>\n",
       "      <td>0.021097</td>\n",
       "      <td>-0.906331</td>\n",
       "      <td>-0.906331</td>\n",
       "      <td>-0.906331</td>\n",
       "      <td>0.0</td>\n",
       "      <td>0.0</td>\n",
       "      <td>0.0</td>\n",
       "      <td>26.504846</td>\n",
       "    </tr>\n",
       "    <tr>\n",
       "      <th>1</th>\n",
       "      <td>2010-01-02</td>\n",
       "      <td>27.389262</td>\n",
       "      <td>25.314545</td>\n",
       "      <td>27.702471</td>\n",
       "      <td>27.389262</td>\n",
       "      <td>27.389262</td>\n",
       "      <td>-0.894274</td>\n",
       "      <td>-0.894274</td>\n",
       "      <td>-0.894274</td>\n",
       "      <td>-0.001126</td>\n",
       "      <td>-0.001126</td>\n",
       "      <td>-0.001126</td>\n",
       "      <td>-0.893148</td>\n",
       "      <td>-0.893148</td>\n",
       "      <td>-0.893148</td>\n",
       "      <td>0.0</td>\n",
       "      <td>0.0</td>\n",
       "      <td>0.0</td>\n",
       "      <td>26.494988</td>\n",
       "    </tr>\n",
       "    <tr>\n",
       "      <th>2</th>\n",
       "      <td>2010-01-03</td>\n",
       "      <td>27.388444</td>\n",
       "      <td>25.333933</td>\n",
       "      <td>27.670799</td>\n",
       "      <td>27.388444</td>\n",
       "      <td>27.388444</td>\n",
       "      <td>-0.868352</td>\n",
       "      <td>-0.868352</td>\n",
       "      <td>-0.868352</td>\n",
       "      <td>0.012980</td>\n",
       "      <td>0.012980</td>\n",
       "      <td>0.012980</td>\n",
       "      <td>-0.881332</td>\n",
       "      <td>-0.881332</td>\n",
       "      <td>-0.881332</td>\n",
       "      <td>0.0</td>\n",
       "      <td>0.0</td>\n",
       "      <td>0.0</td>\n",
       "      <td>26.520093</td>\n",
       "    </tr>\n",
       "    <tr>\n",
       "      <th>3</th>\n",
       "      <td>2010-01-04</td>\n",
       "      <td>27.387627</td>\n",
       "      <td>25.273006</td>\n",
       "      <td>27.778130</td>\n",
       "      <td>27.387627</td>\n",
       "      <td>27.387627</td>\n",
       "      <td>-0.874000</td>\n",
       "      <td>-0.874000</td>\n",
       "      <td>-0.874000</td>\n",
       "      <td>-0.003140</td>\n",
       "      <td>-0.003140</td>\n",
       "      <td>-0.003140</td>\n",
       "      <td>-0.870861</td>\n",
       "      <td>-0.870861</td>\n",
       "      <td>-0.870861</td>\n",
       "      <td>0.0</td>\n",
       "      <td>0.0</td>\n",
       "      <td>0.0</td>\n",
       "      <td>26.513626</td>\n",
       "    </tr>\n",
       "    <tr>\n",
       "      <th>4</th>\n",
       "      <td>2010-01-05</td>\n",
       "      <td>27.386809</td>\n",
       "      <td>25.245068</td>\n",
       "      <td>27.713173</td>\n",
       "      <td>27.386809</td>\n",
       "      <td>27.386809</td>\n",
       "      <td>-0.892844</td>\n",
       "      <td>-0.892844</td>\n",
       "      <td>-0.892844</td>\n",
       "      <td>-0.031178</td>\n",
       "      <td>-0.031178</td>\n",
       "      <td>-0.031178</td>\n",
       "      <td>-0.861666</td>\n",
       "      <td>-0.861666</td>\n",
       "      <td>-0.861666</td>\n",
       "      <td>0.0</td>\n",
       "      <td>0.0</td>\n",
       "      <td>0.0</td>\n",
       "      <td>26.493965</td>\n",
       "    </tr>\n",
       "  </tbody>\n",
       "</table>\n",
       "</div>"
      ],
      "text/plain": [
       "          ds      trend  yhat_lower  yhat_upper  trend_lower  trend_upper  \\\n",
       "0 2010-01-01  27.390079   25.259112   27.718564    27.390079    27.390079   \n",
       "1 2010-01-02  27.389262   25.314545   27.702471    27.389262    27.389262   \n",
       "2 2010-01-03  27.388444   25.333933   27.670799    27.388444    27.388444   \n",
       "3 2010-01-04  27.387627   25.273006   27.778130    27.387627    27.387627   \n",
       "4 2010-01-05  27.386809   25.245068   27.713173    27.386809    27.386809   \n",
       "\n",
       "   additive_terms  additive_terms_lower  additive_terms_upper    weekly  \\\n",
       "0       -0.885234             -0.885234             -0.885234  0.021097   \n",
       "1       -0.894274             -0.894274             -0.894274 -0.001126   \n",
       "2       -0.868352             -0.868352             -0.868352  0.012980   \n",
       "3       -0.874000             -0.874000             -0.874000 -0.003140   \n",
       "4       -0.892844             -0.892844             -0.892844 -0.031178   \n",
       "\n",
       "   weekly_lower  weekly_upper    yearly  yearly_lower  yearly_upper  \\\n",
       "0      0.021097      0.021097 -0.906331     -0.906331     -0.906331   \n",
       "1     -0.001126     -0.001126 -0.893148     -0.893148     -0.893148   \n",
       "2      0.012980      0.012980 -0.881332     -0.881332     -0.881332   \n",
       "3     -0.003140     -0.003140 -0.870861     -0.870861     -0.870861   \n",
       "4     -0.031178     -0.031178 -0.861666     -0.861666     -0.861666   \n",
       "\n",
       "   multiplicative_terms  multiplicative_terms_lower  \\\n",
       "0                   0.0                         0.0   \n",
       "1                   0.0                         0.0   \n",
       "2                   0.0                         0.0   \n",
       "3                   0.0                         0.0   \n",
       "4                   0.0                         0.0   \n",
       "\n",
       "   multiplicative_terms_upper       yhat  \n",
       "0                         0.0  26.504846  \n",
       "1                         0.0  26.494988  \n",
       "2                         0.0  26.520093  \n",
       "3                         0.0  26.513626  \n",
       "4                         0.0  26.493965  "
      ]
     },
     "execution_count": 134,
     "metadata": {},
     "output_type": "execute_result"
    }
   ],
   "source": [
    "forecast.head()"
   ]
  },
  {
   "cell_type": "code",
   "execution_count": 136,
   "id": "420d6663",
   "metadata": {},
   "outputs": [
    {
     "data": {
      "text/plain": [
       "<AxesSubplot:xlabel='date'>"
      ]
     },
     "execution_count": 136,
     "metadata": {},
     "output_type": "execute_result"
    },
    {
     "data": {
      "image/png": "[encoded data removed]",
      "text/plain": [
       "<Figure size 864x576 with 1 Axes>"
      ]
     },
     "metadata": {
      "needs_background": "light"
     },
     "output_type": "display_data"
    }
   ],
   "source": [
    "ax = forecast.iloc[-24:].plot(x = 'ds',y = 'yhat',legend = True,figsize = (12,8))\n",
    "test.plot(x ='date', y = 'Tavg',legend = True,ax =ax )"
   ]
  },
  {
   "cell_type": "markdown",
   "id": "1aa8c774",
   "metadata": {},
   "source": [
    "Prophet도 ARIMA모델과 같은 모양을 예측을 하고있다.  \n",
    "다음번에 더 좋은 데이터 셋으로 예측을 해봐야겠다."
   ]
  }
 ],
 "metadata": {
  "kernelspec": {
   "display_name": "Python 3 (ipykernel)",
   "language": "python",
   "name": "python3"
  },
  "language_info": {
   "codemirror_mode": {
    "name": "ipython",
    "version": 3
   },
   "file_extension": ".py",
   "mimetype": "text/x-python",
   "name": "python",
   "nbconvert_exporter": "python",
   "pygments_lexer": "ipython3",
   "version": "3.9.12"
  },
  "vscode": {
   "interpreter": {
    "hash": "23b4a3e8622309bcc6db3d5cc6eb73d60ab98d9ec23bad6a26b709981ccb403a"
   }
  }
 },
 "nbformat": 4,
 "nbformat_minor": 5
}
